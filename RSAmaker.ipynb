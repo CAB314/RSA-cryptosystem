{
  "nbformat": 4,
  "nbformat_minor": 0,
  "metadata": {
    "colab": {
      "provenance": [],
      "collapsed_sections": [],
      "authorship_tag": "ABX9TyPkVTivqgX58ExWmbU9nD20",
      "include_colab_link": true
    },
    "kernelspec": {
      "name": "python3",
      "display_name": "Python 3"
    },
    "language_info": {
      "name": "python"
    }
  },
  "cells": [
    {
      "cell_type": "markdown",
      "metadata": {
        "id": "view-in-github",
        "colab_type": "text"
      },
      "source": [
        "<a href=\"https://colab.research.google.com/github/CAB314/RSA-cryptosystem/blob/main/RSAmaker.ipynb\" target=\"_parent\"><img src=\"https://colab.research.google.com/assets/colab-badge.svg\" alt=\"Open In Colab\"/></a>"
      ]
    },
    {
      "cell_type": "markdown",
      "source": [
        "# RSA make"
      ],
      "metadata": {
        "id": "ZQi4oLCrhs4z"
      }
    },
    {
      "cell_type": "markdown",
      "source": [
        "## Make dictionary"
      ],
      "metadata": {
        "id": "izKFgujJhweN"
      }
    },
    {
      "cell_type": "code",
      "execution_count": null,
      "metadata": {
        "id": "ch9YoRa7hH7d"
      },
      "outputs": [],
      "source": [
        "def mkdic(s):\n",
        "  cs = [c for c in s]\n",
        "  dic_c_i = { ch:i for i,ch in enumerate(cs)}\n",
        "  dic_i_c  = { i:ch for i,ch in enumerate(cs)}\n",
        "  return dic_c_i, dic_i_c"
      ]
    },
    {
      "cell_type": "markdown",
      "source": [
        "This RSA cipher generator has default vocabrary (A-Z, a-z, \"!\", \"?\", \",\", \".\", \" \" ). \n",
        "\n",
        "$d$ is the vocabrary list (the type is string) like \"ABCDEFGHIJKLMNOPQRSTUVWXYZabcdefghijklmnopqrstuvwxyz!?,. \"\n",
        "\n",
        "You can create the vocabrary list(string) including any character."
      ],
      "metadata": {
        "id": "sA9IwCg71JVl"
      }
    },
    {
      "cell_type": "code",
      "source": [
        "d = \"\"\n",
        "for i in range(65, 65+26):\n",
        "  d += chr(i)\n",
        "for i in range(97, 97+26):\n",
        "  d += chr(i)\n",
        "\n",
        "d += chr(33)\n",
        "d += chr(63)\n",
        "d += chr(44)\n",
        "d += chr(46)\n",
        "d += \" \"\n",
        "d"
      ],
      "metadata": {
        "id": "rmpo2jwplHfA"
      },
      "execution_count": null,
      "outputs": []
    },
    {
      "cell_type": "code",
      "source": [
        "dic_c_i, dic_i_c = mkdic(d)\n",
        "print(dic_c_i)\n",
        "print(dic_i_c)"
      ],
      "metadata": {
        "id": "9OYByUxphyMb"
      },
      "execution_count": null,
      "outputs": []
    },
    {
      "cell_type": "markdown",
      "source": [
        "## Define keys"
      ],
      "metadata": {
        "id": "gz0UYacfnY1P"
      }
    },
    {
      "cell_type": "markdown",
      "source": [
        "Generate prime number $p$ and $q$ ($\\text {vocabrary size}+5 < p, q <  10^{501}$)"
      ],
      "metadata": {
        "id": "dmn5362Y2ZQ_"
      }
    },
    {
      "cell_type": "code",
      "source": [
        "import sympy\n",
        "\n",
        "p = sympy.randprime(len(dic_c_i)+5, 10**501)\n",
        "q = sympy.randprime(len(dic_c_i)+5, 10**501)\n",
        "while p == q:\n",
        "  q = sympy.randprime(len(dic_c_i)+5, 10**501)"
      ],
      "metadata": {
        "id": "KquexoV_btkH"
      },
      "execution_count": null,
      "outputs": []
    },
    {
      "cell_type": "markdown",
      "source": [
        "Generate public key $key_n, key_e$ and private key $key_p$."
      ],
      "metadata": {
        "id": "a5cL6a6R3I4D"
      }
    },
    {
      "cell_type": "code",
      "source": [
        "\n",
        "\n",
        "def gcd(a, b):\n",
        "    while b:\n",
        "        a, b = b, a % b\n",
        "    return a\n",
        "    \n",
        "def key_pub(p, q, div = 3):\n",
        "  key_n = p*q\n",
        "  p_q_ = (p-1)*(q-1)\n",
        "  key_e = 0\n",
        "  for i in reversed(range(int(p_q_//div))):\n",
        "    if (gcd(p_q_, i) == 1):\n",
        "      key_e = i\n",
        "      break\n",
        "  return key_n, key_e\n",
        "\n",
        "key_n, key_e= key_pub(p, q)\n",
        "\n",
        "def key_pri(p, q, key_e):\n",
        "  a = key_e\n",
        "  b = (p-1)*(q-1)\n",
        "  x1, y1, _ = sympy.gcdex(a,b)\n",
        "  #a(x-x1) = -b(y-y1)\n",
        "  #x-x1 = bm\n",
        "  #y-y1 = -am\n",
        "  m = 1\n",
        "  x = b*m + x1\n",
        "  while(x > 0):\n",
        "    m-=1\n",
        "    x = b*m + x1\n",
        "  while(x <= 0):\n",
        "    m+=1\n",
        "    x = b*m + x1\n",
        "  return x\n",
        "\n",
        "key_p = int(key_pri(p, q, key_e))\n",
        "\n",
        "print(key_n, key_e)\n",
        "print(key_p)"
      ],
      "metadata": {
        "id": "E8bh3DwQnamv"
      },
      "execution_count": null,
      "outputs": []
    },
    {
      "cell_type": "markdown",
      "source": [
        "## plaintext to int"
      ],
      "metadata": {
        "id": "zmo12WTxlvpq"
      }
    },
    {
      "cell_type": "code",
      "source": [
        "def plain_to_int(dic_c_i, text):\n",
        "  return [dic_c_i[c] for c in text]\n",
        "def int_to_plain(dic_i_c, nums):\n",
        "  return [dic_i_c[c] for c in nums]\n",
        "\n",
        "answer =  \"\" #Text that you want to send using RSA.\n",
        "if answer == \"\":\n",
        "  answer = input()\n",
        "nums = plain_to_int(dic_c_i, answer)\n",
        "text = int_to_plain(dic_i_c, nums)\n",
        "\n",
        "print(nums)\n",
        "print(\"\".join(text))"
      ],
      "metadata": {
        "id": "dLm4UdfIl4_F"
      },
      "execution_count": null,
      "outputs": []
    },
    {
      "cell_type": "markdown",
      "source": [
        "## ciphertext"
      ],
      "metadata": {
        "id": "t6Hux0v5-89u"
      }
    },
    {
      "cell_type": "markdown",
      "source": [
        "Answer numbers($nums$) to ciphertext($nums_d$)"
      ],
      "metadata": {
        "id": "DfM5nu_t4BsP"
      }
    },
    {
      "cell_type": "code",
      "source": [
        "from multiprocessing import Process, Queue\n",
        "def power_func(num,key_e,key_n, que, itr):\n",
        "    bi = str(format(key_e,\"b\"))\n",
        "    res = 1\n",
        "    for i in range(len(bi)):\n",
        "        res = (res*res) %key_n\n",
        "        if bi[i] == \"1\":\n",
        "            res = (res*num) %key_n\n",
        "    que.put((itr, res))\n",
        "\n",
        "\n",
        "que = Queue()\n",
        "nums_d = nums.copy()\n",
        "for i in range(len(nums)):\n",
        "  num = nums[i]\n",
        "  p = Process(target=power_func, args=(num,key_e,key_n, que, i))\n",
        "  p.start()\n",
        "\n",
        "values = sorted((que.get() for _ in range(len(nums))), key=lambda r: r[0])\n",
        "for i, v in enumerate(values):\n",
        "  nums_d[i] = v[1]"
      ],
      "metadata": {
        "id": "z3m5DIJLxse-"
      },
      "execution_count": null,
      "outputs": []
    },
    {
      "cell_type": "code",
      "source": [
        "print(nums_d)"
      ],
      "metadata": {
        "id": "7b2inu1E53Fq"
      },
      "execution_count": null,
      "outputs": []
    },
    {
      "cell_type": "markdown",
      "source": [
        "# Decipher"
      ],
      "metadata": {
        "id": "KYwyoVFa4xJ-"
      }
    },
    {
      "cell_type": "markdown",
      "source": [
        "Ciphertext numbers($nums_d$) to plaintext numbers($nums_{test}$)"
      ],
      "metadata": {
        "id": "wULnWyXb4HFH"
      }
    },
    {
      "cell_type": "code",
      "source": [
        "def power_func(num,key_e,key_n, que, itr):\n",
        "    bi = str(format(key_e,\"b\"))#2進表現に\n",
        "    res = 1\n",
        "    for i in range(len(bi)):\n",
        "        res = (res*res) %key_n\n",
        "        if bi[i] == \"1\":\n",
        "            res = (res*num) %key_n\n",
        "    que.put((itr, res))\n",
        "\n",
        "nums_test = nums.copy()\n",
        "que = Queue()\n",
        "for i in range(len(nums)):\n",
        "  num = nums_d[i]\n",
        "  p = Process(target=power_func, args=(num,key_p,key_n, que, i))\n",
        "  p.start()   # prints \"[42, None, 'hello']\"\n",
        "\n",
        "\n",
        "values = sorted((que.get() for _ in range(len(nums))), key=lambda r: r[0])"
      ],
      "metadata": {
        "id": "prlmq6G84vZX"
      },
      "execution_count": null,
      "outputs": []
    },
    {
      "cell_type": "code",
      "source": [
        "for i, v in enumerate(values):\n",
        "  nums_test[i] = v[1]"
      ],
      "metadata": {
        "id": "XOimNNig98zZ"
      },
      "execution_count": null,
      "outputs": []
    },
    {
      "cell_type": "code",
      "source": [
        "nums_test"
      ],
      "metadata": {
        "id": "FMO5FouE5-UO"
      },
      "execution_count": null,
      "outputs": []
    },
    {
      "cell_type": "code",
      "source": [
        "import time\n",
        "\n",
        "print(answer)\n",
        "time.sleep(1)\n",
        "i=0\n",
        "print(\"\".join(int_to_plain(dic_i_c, nums_test)))"
      ],
      "metadata": {
        "id": "YGZOHp5N2dV0"
      },
      "execution_count": null,
      "outputs": []
    },
    {
      "cell_type": "markdown",
      "source": [
        "## Easy way to decipher for poor vocabrary."
      ],
      "metadata": {
        "id": "YsPOxc_TL9iz"
      }
    },
    {
      "cell_type": "code",
      "source": [
        "def power_func(num,key_e,key_n, que, itr):\n",
        "    bi = str(format(key_e,\"b\"))\n",
        "    res = 1\n",
        "    for i in range(len(bi)):\n",
        "        res = (res*res) %key_n\n",
        "        if bi[i] == \"1\":\n",
        "            res = (res*num) %key_n\n",
        "    que.put((itr, res))\n",
        "\n",
        "\n",
        "que = Queue()\n",
        "keys = dic_i_c.keys()\n",
        "for i, num in enumerate(keys):\n",
        "  p = Process(target=power_func, args=(num,key_e,key_n, que, i))\n",
        "  p.start()\n",
        "\n",
        "values = sorted((que.get() for _ in range(len(keys))), key=lambda r: r[0])"
      ],
      "metadata": {
        "id": "kPDIejq4IcJH"
      },
      "execution_count": null,
      "outputs": []
    },
    {
      "cell_type": "code",
      "source": [
        "#dic_i_c_all"
      ],
      "metadata": {
        "id": "9hgKFji7MmZw"
      },
      "execution_count": null,
      "outputs": []
    },
    {
      "cell_type": "code",
      "source": [
        "dic_i_c_all = dict()\n",
        "for i, v in enumerate(values):\n",
        "  dic_i_c_all[v[1]] = dic_i_c[i]"
      ],
      "metadata": {
        "id": "mHiPCumDOCOq"
      },
      "execution_count": null,
      "outputs": []
    },
    {
      "cell_type": "code",
      "source": [
        "for num in nums_d:\n",
        "  print(dic_i_c_all[num], sep=\"\", end=\"\")"
      ],
      "metadata": {
        "id": "Kk9zdgsDMTeU"
      },
      "execution_count": null,
      "outputs": []
    }
  ]
}