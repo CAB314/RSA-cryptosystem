{
  "cells": [
    {
      "cell_type": "markdown",
      "metadata": {
        "colab_type": "text",
        "id": "view-in-github"
      },
      "source": [
        "<a href=\"https://colab.research.google.com/github/CAB314/RSA-cryptosystem/blob/main/RSAmaker.ipynb\" target=\"_parent\"><img src=\"https://colab.research.google.com/assets/colab-badge.svg\" alt=\"Open In Colab\"/></a>"
      ]
    },
    {
      "cell_type": "markdown",
      "metadata": {
        "id": "ZQi4oLCrhs4z"
      },
      "source": [
        "# RSA maker"
      ]
    },
    {
      "cell_type": "markdown",
      "metadata": {
        "id": "izKFgujJhweN"
      },
      "source": [
        "## Make dictionary"
      ]
    },
    {
      "cell_type": "code",
      "execution_count": null,
      "metadata": {
        "id": "ch9YoRa7hH7d"
      },
      "outputs": [],
      "source": [
        "def mkdic(s):\n",
        "  cs = [c for c in s]\n",
        "  dic_c_i = { ch:i for i,ch in enumerate(cs)}\n",
        "  dic_i_c  = { i:ch for i,ch in enumerate(cs)}\n",
        "  return dic_c_i, dic_i_c"
      ]
    },
    {
      "cell_type": "markdown",
      "metadata": {
        "id": "sA9IwCg71JVl"
      },
      "source": [
        "This RSA cipher generator has default vocabrary (A-Z, a-z, \"!\", \"?\", \",\", \".\", \" \" ). \n",
        "\n",
        "$d$ is the vocabrary list (the type is string) like \"ABCDEFGHIJKLMNOPQRSTUVWXYZabcdefghijklmnopqrstuvwxyz!?,. \"\n",
        "\n",
        "You can create the vocabrary list(string) including any character."
      ]
    },
    {
      "cell_type": "code",
      "execution_count": null,
      "metadata": {
        "id": "rmpo2jwplHfA"
      },
      "outputs": [],
      "source": [
        "d = \"\"\n",
        "for i in range(65, 65+26):\n",
        "  d += chr(i)\n",
        "for i in range(97, 97+26):\n",
        "  d += chr(i)\n",
        "\n",
        "d += chr(33)\n",
        "d += chr(63)\n",
        "d += chr(44)\n",
        "d += chr(46)\n",
        "d += \" \"\n",
        "d"
      ]
    },
    {
      "cell_type": "code",
      "execution_count": null,
      "metadata": {
        "id": "9OYByUxphyMb"
      },
      "outputs": [],
      "source": [
        "dic_c_i, dic_i_c = mkdic(d)\n",
        "print(dic_c_i)\n",
        "print(dic_i_c)"
      ]
    },
    {
      "cell_type": "markdown",
      "metadata": {
        "id": "gz0UYacfnY1P"
      },
      "source": [
        "## Define keys"
      ]
    },
    {
      "cell_type": "markdown",
      "metadata": {
        "id": "dmn5362Y2ZQ_"
      },
      "source": [
        "Generate prime number $p$ and $q$ ($\\text {vocabrary size}+5 < p, q <  10^{501}$)"
      ]
    },
    {
      "cell_type": "code",
      "execution_count": null,
      "metadata": {
        "id": "KquexoV_btkH"
      },
      "outputs": [],
      "source": [
        "import sympy\n",
        "\n",
        "p = sympy.randprime(len(dic_c_i)+5, 10**501)\n",
        "q = sympy.randprime(len(dic_c_i)+5, 10**501)\n",
        "while p == q:\n",
        "  q = sympy.randprime(len(dic_c_i)+5, 10**501)"
      ]
    },
    {
      "cell_type": "markdown",
      "metadata": {
        "id": "a5cL6a6R3I4D"
      },
      "source": [
        "Generate public key $key_n, key_e$ and private key $key_p$."
      ]
    },
    {
      "cell_type": "code",
      "execution_count": null,
      "metadata": {
        "id": "E8bh3DwQnamv"
      },
      "outputs": [],
      "source": [
        "\n",
        "\n",
        "def gcd(a, b):\n",
        "    while b:\n",
        "        a, b = b, a % b\n",
        "    return a\n",
        "    \n",
        "def key_pub(p, q, div = 3):\n",
        "  key_n = p*q\n",
        "  p_q_ = (p-1)*(q-1)\n",
        "  key_e = 0\n",
        "  for i in reversed(range(int(p_q_//div))):\n",
        "    if (gcd(p_q_, i) == 1):\n",
        "      key_e = i\n",
        "      break\n",
        "  return key_n, key_e\n",
        "\n",
        "key_n, key_e= key_pub(p, q)\n",
        "\n",
        "def key_pri(p, q, key_e):\n",
        "  a = key_e\n",
        "  b = (p-1)*(q-1)\n",
        "  x1, y1, _ = sympy.gcdex(a,b)\n",
        "  #a(x-x1) = -b(y-y1)\n",
        "  #x-x1 = bm\n",
        "  #y-y1 = -am\n",
        "  m = 1\n",
        "  x = b*m + x1\n",
        "  while(x > 0):\n",
        "    m-=1\n",
        "    x = b*m + x1\n",
        "  while(x <= 0):\n",
        "    m+=1\n",
        "    x = b*m + x1\n",
        "  return x\n",
        "\n",
        "key_p = int(key_pri(p, q, key_e))\n",
        "\n",
        "print(key_n, key_e)\n",
        "print(key_p)"
      ]
    },
    {
      "cell_type": "markdown",
      "metadata": {
        "id": "zmo12WTxlvpq"
      },
      "source": [
        "## plaintext to int"
      ]
    },
    {
      "cell_type": "code",
      "execution_count": null,
      "metadata": {
        "id": "dLm4UdfIl4_F"
      },
      "outputs": [],
      "source": [
        "def plain_to_int(dic_c_i, text):\n",
        "  return [dic_c_i[c] for c in text]\n",
        "def int_to_plain(dic_i_c, nums):\n",
        "  return [dic_i_c[c] for c in nums]\n",
        "\n",
        "answer =  \"\" #Text that you want to send using RSA.\n",
        "if answer == \"\":\n",
        "  answer = input()\n",
        "nums = plain_to_int(dic_c_i, answer)\n",
        "text = int_to_plain(dic_i_c, nums)\n",
        "\n",
        "print(nums)\n",
        "print(\"\".join(text))"
      ]
    },
    {
      "cell_type": "markdown",
      "metadata": {
        "id": "t6Hux0v5-89u"
      },
      "source": [
        "## ciphertext"
      ]
    },
    {
      "cell_type": "markdown",
      "metadata": {
        "id": "DfM5nu_t4BsP"
      },
      "source": [
        "Answer numbers($nums$) to ciphertext($nums_d$)"
      ]
    },
    {
      "cell_type": "code",
      "execution_count": null,
      "metadata": {
        "id": "z3m5DIJLxse-"
      },
      "outputs": [],
      "source": [
        "from multiprocessing import Process, Queue\n",
        "def power_func(num,key_e,key_n, que, itr):\n",
        "    bi = str(format(key_e,\"b\"))\n",
        "    res = 1\n",
        "    for i in range(len(bi)):\n",
        "        res = (res*res) %key_n\n",
        "        if bi[i] == \"1\":\n",
        "            res = (res*num) %key_n\n",
        "    que.put((itr, res))\n",
        "\n",
        "\n",
        "que = Queue()\n",
        "nums_d = nums.copy()\n",
        "for i in range(len(nums)):\n",
        "  num = nums[i]\n",
        "  p = Process(target=power_func, args=(num,key_e,key_n, que, i))\n",
        "  p.start()\n",
        "\n",
        "values = sorted((que.get() for _ in range(len(nums))), key=lambda r: r[0])\n",
        "for i, v in enumerate(values):\n",
        "  nums_d[i] = v[1]"
      ]
    },
    {
      "cell_type": "code",
      "execution_count": null,
      "metadata": {
        "id": "7b2inu1E53Fq"
      },
      "outputs": [],
      "source": [
        "print(nums_d)"
      ]
    },
    {
      "cell_type": "markdown",
      "metadata": {
        "id": "KYwyoVFa4xJ-"
      },
      "source": [
        "# Decipher"
      ]
    },
    {
      "cell_type": "markdown",
      "metadata": {
        "id": "wULnWyXb4HFH"
      },
      "source": [
        "Ciphertext numbers($nums_d$) to plaintext numbers($nums_{test}$)"
      ]
    },
    {
      "cell_type": "code",
      "execution_count": null,
      "metadata": {
        "id": "prlmq6G84vZX"
      },
      "outputs": [],
      "source": [
        "def power_func(num,key_e,key_n, que, itr):\n",
        "    bi = str(format(key_e,\"b\"))#2進表現に\n",
        "    res = 1\n",
        "    for i in range(len(bi)):\n",
        "        res = (res*res) %key_n\n",
        "        if bi[i] == \"1\":\n",
        "            res = (res*num) %key_n\n",
        "    que.put((itr, res))\n",
        "\n",
        "nums_test = nums_d.copy()\n",
        "que = Queue()\n",
        "for i in range(len(nums_d)):\n",
        "  num = nums_d[i]\n",
        "  p = Process(target=power_func, args=(num,key_p,key_n, que, i))\n",
        "  p.start()   # prints \"[42, None, 'hello']\"\n",
        "\n",
        "\n",
        "values = sorted((que.get() for _ in range(len(nums_d))), key=lambda r: r[0])"
      ]
    },
    {
      "cell_type": "code",
      "execution_count": null,
      "metadata": {
        "id": "XOimNNig98zZ"
      },
      "outputs": [],
      "source": [
        "for i, v in enumerate(values):\n",
        "  nums_test[i] = v[1]"
      ]
    },
    {
      "cell_type": "code",
      "execution_count": null,
      "metadata": {
        "id": "FMO5FouE5-UO"
      },
      "outputs": [],
      "source": [
        "nums_test"
      ]
    },
    {
      "cell_type": "code",
      "execution_count": null,
      "metadata": {
        "id": "YGZOHp5N2dV0"
      },
      "outputs": [],
      "source": [
        "import time\n",
        "\n",
        "print(answer)\n",
        "time.sleep(1)\n",
        "i=0\n",
        "print(\"\".join(int_to_plain(dic_i_c, nums_test)))"
      ]
    },
    {
      "cell_type": "markdown",
      "metadata": {
        "id": "YsPOxc_TL9iz"
      },
      "source": [
        "## Easy way to decipher for poor vocabrary."
      ]
    },
    {
      "cell_type": "code",
      "execution_count": null,
      "metadata": {
        "id": "kPDIejq4IcJH"
      },
      "outputs": [],
      "source": [
        "def power_func(num,key_e,key_n, que, itr):\n",
        "    bi = str(format(key_e,\"b\"))\n",
        "    res = 1\n",
        "    for i in range(len(bi)):\n",
        "        res = (res*res) %key_n\n",
        "        if bi[i] == \"1\":\n",
        "            res = (res*num) %key_n\n",
        "    que.put((itr, res))\n",
        "\n",
        "\n",
        "que = Queue()\n",
        "keys = dic_i_c.keys()\n",
        "for i, num in enumerate(keys):\n",
        "  p = Process(target=power_func, args=(num,key_e,key_n, que, i))\n",
        "  p.start()\n",
        "\n",
        "values = sorted((que.get() for _ in range(len(keys))), key=lambda r: r[0])"
      ]
    },
    {
      "cell_type": "code",
      "execution_count": null,
      "metadata": {
        "id": "9hgKFji7MmZw"
      },
      "outputs": [],
      "source": [
        "#dic_i_c_all"
      ]
    },
    {
      "cell_type": "code",
      "execution_count": null,
      "metadata": {
        "id": "mHiPCumDOCOq"
      },
      "outputs": [],
      "source": [
        "dic_i_c_all = dict()\n",
        "for i, v in enumerate(values):\n",
        "  dic_i_c_all[v[1]] = dic_i_c[i]"
      ]
    },
    {
      "cell_type": "code",
      "execution_count": null,
      "metadata": {
        "id": "Kk9zdgsDMTeU"
      },
      "outputs": [],
      "source": [
        "for num in nums_d:\n",
        "  print(dic_i_c_all[num], sep=\"\", end=\"\")"
      ]
    }
  ],
  "metadata": {
    "colab": {
      "authorship_tag": "ABX9TyPkVTivqgX58ExWmbU9nD20",
      "collapsed_sections": [],
      "include_colab_link": true,
      "provenance": []
    },
    "kernelspec": {
      "display_name": "Python 3",
      "name": "python3"
    },
    "language_info": {
      "name": "python"
    }
  },
  "nbformat": 4,
  "nbformat_minor": 0
}
